{
 "cells": [
  {
   "cell_type": "markdown",
   "metadata": {},
   "source": [
    "# In Depth A/B Testing - Lab\n",
    "\n",
    "## Introduction\n",
    "\n",
    "In this lab, you'll explore a survey from Kaggle regarding budding data scientists. With this, you'll form some initial hypotheses, and test them using the tools you've acquired to date. \n",
    "\n",
    "## Objectives\n",
    "\n",
    "You will be able to:\n",
    "* Conduct statistical tests on a real-world dataset"
   ]
  },
  {
   "cell_type": "markdown",
   "metadata": {},
   "source": [
    "## Load the Dataset and Perform a Brief Exploration\n",
    "\n",
    "The data is stored in a file called **multipleChoiceResponses_cleaned.csv**. Feel free to check out the original dataset referenced at the bottom of this lab, although this cleaned version will undoubtedly be easier to work with. Additionally, meta-data regarding the questions is stored in a file name **schema.csv**. Load in the data itself as a Pandas DataFrame, and take a moment to briefly get acquainted with it.\n",
    "\n",
    "> Note: If you can't get the file to load properly, try changing the encoding format as in `encoding='latin1'`"
   ]
  },
  {
   "cell_type": "code",
   "execution_count": 7,
   "metadata": {},
   "outputs": [],
   "source": [
    "#Your code here\n",
    "import pandas as pd\n",
    "\n",
    "df = pd.read_csv('multipleChoiceResponses_cleaned.csv', encoding='latin1')\n"
   ]
  },
  {
   "cell_type": "markdown",
   "metadata": {},
   "source": [
    "## Wages and Education\n",
    "\n",
    "You've been asked to determine whether education is impactful to salary. Develop a hypothesis test to compare the salaries of those with Master's degrees to those with Bachelor's degrees. Are the two statistically different according to your results?\n",
    "\n",
    "> Note: The relevant features are stored in the 'FormalEducation' and 'AdjustedCompensation' features."
   ]
  },
  {
   "cell_type": "code",
   "execution_count": 69,
   "metadata": {},
   "outputs": [
    {
     "name": "stdout",
     "output_type": "stream",
     "text": [
      "0.3307763945128184\n"
     ]
    }
   ],
   "source": [
    "#Your code here H1: There is no difference. HA: Salaries of those with Master's degree is higher\n",
    "\n",
    "Masters = df.loc[df['FormalEducation']==\"Master's degree\"]\n",
    "# Masters = Masters.loc[Masters['AdjustedCompensation'].isnull()==False]\n",
    "Bachelors = df.loc[df['FormalEducation']==\"Bachelor's degree\"]\n",
    "# Bachelors = Bachelors.loc[Bachelors['AdjustedCompensation'].isnull()==False]\n",
    "\n",
    "from scipy.stats import ttest_ind\n",
    "\n",
    "tstat, pval = ttest_ind(Masters['AdjustedCompensation'], Bachelors['AdjustedCompensation'], equal_var=False, nan_policy='omit')\n",
    "\n",
    "print(pval/2)\n",
    "# Since the scipy ttest defaults 2-tail, the p-val is roughly .33, so there is no statistically significant difference\n"
   ]
  },
  {
   "cell_type": "markdown",
   "metadata": {},
   "source": [
    "## Wages and Education II\n",
    "\n",
    "Now perform a similar statistical test comparing the AdjustedCompensation of those with Bachelor's degrees and those with Doctorates. If you haven't already, be sure to explore the distribution of the AdjustedCompensation feature for any anomalies. "
   ]
  },
  {
   "cell_type": "code",
   "execution_count": 70,
   "metadata": {},
   "outputs": [
    {
     "name": "stdout",
     "output_type": "stream",
     "text": [
      "0.15682381994716163\n"
     ]
    }
   ],
   "source": [
    "#Your code here H1: There is no difference. HA: Salaries of those with Doctoral degree is higher.\n",
    "\n",
    "Doctorate = df.loc[df['FormalEducation']==\"Doctoral degree\"]\n",
    "# Doctorate = Doctorate.loc[Doctorate['AdjustedCompensation'].isnull()==False]\n",
    "\n",
    "tstat, pval = ttest_ind(Doctorate['AdjustedCompensation'], Bachelors['AdjustedCompensation'], equal_var=False, nan_policy='omit')\n",
    "\n",
    "print(pval/2)\n",
    "# No statistically significant difference with p-val at roughly .15"
   ]
  },
  {
   "cell_type": "code",
   "execution_count": 74,
   "metadata": {},
   "outputs": [
    {
     "name": "stdout",
     "output_type": "stream",
     "text": [
      "0.12475225531522234\n"
     ]
    }
   ],
   "source": [
    "Doctorate_3above = Doctorate['AdjustedCompensation'].mean() + (Doctorate['AdjustedCompensation'].std()*3)\n",
    "Doctorate_3below = Doctorate['AdjustedCompensation'].mean() - (Doctorate['AdjustedCompensation'].std()*3)\n",
    "Doctorate_no_outliers = Doctorate.loc[(Doctorate['AdjustedCompensation'] <= Doctorate_3above) & (Doctorate['AdjustedCompensation'] >= Doctorate_3below)]\n",
    "\n",
    "Bachelors_3above = Bachelors['AdjustedCompensation'].mean() + (Bachelors['AdjustedCompensation'].std()*3)\n",
    "Bachelors_3below = Bachelors['AdjustedCompensation'].mean() - (Bachelors['AdjustedCompensation'].std()*3)\n",
    "Bachelors_no_outliers = Bachelors.loc[(Bachelors['AdjustedCompensation'] <= Bachelors_3above) & (Bachelors['AdjustedCompensation'] >= Bachelors_3below)]\n",
    "\n",
    "tstat, pval = ttest_ind(Doctorate_no_outliers['AdjustedCompensation'], Bachelors_no_outliers['AdjustedCompensation'], equal_var=False, nan_policy='omit')\n",
    "\n",
    "print(pval/2)"
   ]
  },
  {
   "cell_type": "markdown",
   "metadata": {},
   "source": [
    "## Wages and Education III\n",
    "\n",
    "Remember the multiple comparisons problem; rather than continuing on like this, perform an ANOVA test between the various 'FormalEducation' categories and their relation to 'AdjustedCompensation'."
   ]
  },
  {
   "cell_type": "code",
   "execution_count": 49,
   "metadata": {},
   "outputs": [
    {
     "data": {
      "text/html": [
       "<div>\n",
       "<style scoped>\n",
       "    .dataframe tbody tr th:only-of-type {\n",
       "        vertical-align: middle;\n",
       "    }\n",
       "\n",
       "    .dataframe tbody tr th {\n",
       "        vertical-align: top;\n",
       "    }\n",
       "\n",
       "    .dataframe thead th {\n",
       "        text-align: right;\n",
       "    }\n",
       "</style>\n",
       "<table border=\"1\" class=\"dataframe\">\n",
       "  <thead>\n",
       "    <tr style=\"text-align: right;\">\n",
       "      <th></th>\n",
       "      <th>df</th>\n",
       "      <th>sum_sq</th>\n",
       "      <th>mean_sq</th>\n",
       "      <th>F</th>\n",
       "      <th>PR(&gt;F)</th>\n",
       "    </tr>\n",
       "  </thead>\n",
       "  <tbody>\n",
       "    <tr>\n",
       "      <th>FormalEducation</th>\n",
       "      <td>6.0</td>\n",
       "      <td>6.540294e+17</td>\n",
       "      <td>1.090049e+17</td>\n",
       "      <td>0.590714</td>\n",
       "      <td>0.738044</td>\n",
       "    </tr>\n",
       "    <tr>\n",
       "      <th>Residual</th>\n",
       "      <td>4335.0</td>\n",
       "      <td>7.999414e+20</td>\n",
       "      <td>1.845309e+17</td>\n",
       "      <td>NaN</td>\n",
       "      <td>NaN</td>\n",
       "    </tr>\n",
       "  </tbody>\n",
       "</table>\n",
       "</div>"
      ],
      "text/plain": [
       "                     df        sum_sq       mean_sq         F    PR(>F)\n",
       "FormalEducation     6.0  6.540294e+17  1.090049e+17  0.590714  0.738044\n",
       "Residual         4335.0  7.999414e+20  1.845309e+17       NaN       NaN"
      ]
     },
     "execution_count": 49,
     "metadata": {},
     "output_type": "execute_result"
    }
   ],
   "source": [
    "#Your code here\n",
    "\n",
    "from statsmodels.formula.api import ols\n",
    "from statsmodels.stats.anova import anova_lm\n",
    "\n",
    "model = ols('AdjustedCompensation ~ FormalEducation', data=df).fit()\n",
    "table = anova_lm(model, type=2)\n",
    "\n",
    "table\n",
    "\n",
    "# With p-val .738, it appears that there is no significant difference in salary across levels of formal education"
   ]
  },
  {
   "cell_type": "markdown",
   "metadata": {},
   "source": [
    "## Additional Resources\n",
    "\n",
    "Here's the original source where the data was taken from:  \n",
    "    [Kaggle Machine Learning & Data Science Survey 2017](https://www.kaggle.com/kaggle/kaggle-survey-2017)"
   ]
  },
  {
   "cell_type": "markdown",
   "metadata": {},
   "source": [
    "## Summary\n",
    "\n",
    "In this lab, you practiced conducting actual hypothesis tests on actual data. From this, you saw how dependent results can be on the initial problem formulation, including preprocessing!"
   ]
  }
 ],
 "metadata": {
  "kernelspec": {
   "display_name": "Python 3",
   "language": "python",
   "name": "python3"
  },
  "language_info": {
   "codemirror_mode": {
    "name": "ipython",
    "version": 3
   },
   "file_extension": ".py",
   "mimetype": "text/x-python",
   "name": "python",
   "nbconvert_exporter": "python",
   "pygments_lexer": "ipython3",
   "version": "3.7.3"
  }
 },
 "nbformat": 4,
 "nbformat_minor": 2
}
